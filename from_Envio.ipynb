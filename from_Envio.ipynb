{
 "cells": [
  {
   "cell_type": "code",
   "execution_count": 6,
   "metadata": {},
   "outputs": [],
   "source": [
    "import os, shutil\n",
    "import pandas as pd"
   ]
  },
  {
   "cell_type": "code",
   "execution_count": null,
   "metadata": {},
   "outputs": [],
   "source": [
    "opath = os.path\n",
    "arquivo = r\"\\arquivo_extrato\"\n",
    "inbox602 = r\"C:\\Santander\\AFTData\\INBOX\\GE102602\" #Extratos\n",
    "inbox153 = r\"C:\\Santander\\AFTData\\INBOX\\GE102153\" #operaçoes\n",
    "L_inbox602 = os.listdir(inbox602)\n",
    "registrados = pd.read_sql('select * from H_FILE_CISA',get_engine())['NM_ARQUIVO']"
   ]
  },
  {
   "cell_type": "code",
   "execution_count": 3,
   "metadata": {},
   "outputs": [
    {
     "data": {
      "text/plain": [
       "['EXTELE_I791_02_010223P_MOV.TXT',\n",
       " 'EXTELE_I791_02_010623P_MOV.TXT',\n",
       " 'EXTELE_I791_02_010822P_MOV.TXT',\n",
       " 'EXTELE_I791_02_011122P_MOV.TXT',\n",
       " 'EXTELE_I791_02_011222P_MOV.TXT',\n",
       " 'EXTELE_I791_02_020123P_MOV.TXT',\n",
       " 'EXTELE_I791_02_020223P_MOV.TXT',\n",
       " 'EXTELE_I791_02_020623P_MOV.TXT']"
      ]
     },
     "execution_count": 3,
     "metadata": {},
     "output_type": "execute_result"
    }
   ],
   "source": [
    "for file in L_inbox602:\n",
    "    write_log(f'RENV0001 - Sondando INBOX 602')\n",
    "    if str(file).endswith('.TXT') and file in registrados:\n",
    "        write_log(f'RENV0001 - {file} já registrado')\n",
    "        shutil.move(opath.join(inbox602,file),opath.join(arquivo,file))\n",
    "        write_log(f'RENV0003 - {file} arquivado')\n",
    "    elif str(file).endswith('.TXT') and file not in registrados:\n",
    "        with open(opath.join(inbox602,file)) as cnab:\n"
   ]
  },
  {
   "cell_type": "code",
   "execution_count": null,
   "metadata": {},
   "outputs": [],
   "source": []
  }
 ],
 "metadata": {
  "kernelspec": {
   "display_name": "Python 3",
   "language": "python",
   "name": "python3"
  },
  "language_info": {
   "codemirror_mode": {
    "name": "ipython",
    "version": 3
   },
   "file_extension": ".py",
   "mimetype": "text/x-python",
   "name": "python",
   "nbconvert_exporter": "python",
   "pygments_lexer": "ipython3",
   "version": "3.10.11"
  },
  "orig_nbformat": 4
 },
 "nbformat": 4,
 "nbformat_minor": 2
}
